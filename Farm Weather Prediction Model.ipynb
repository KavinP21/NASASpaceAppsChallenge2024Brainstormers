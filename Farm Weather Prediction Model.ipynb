{
 "cells": [
  {
   "cell_type": "code",
   "execution_count": 3,
   "id": "c33ec230",
   "metadata": {},
   "outputs": [],
   "source": [
    "import pandas as pd\n",
    "from neuralprophet import NeuralProphet\n",
    "from matplotlib import pyplot as plt\n",
    "import pickle\n",
    "import ipywidgets"
   ]
  },
  {
   "cell_type": "code",
   "execution_count": 4,
   "id": "ff94939a",
   "metadata": {},
   "outputs": [
    {
     "name": "stdout",
     "output_type": "stream",
     "text": [
      "Note: you may need to restart the kernel to use updated packages.\n"
     ]
    },
    {
     "name": "stderr",
     "output_type": "stream",
     "text": [
      "\n",
      "[notice] A new release of pip available: 22.3.1 -> 23.2.1\n",
      "[notice] To update, run: python.exe -m pip install --upgrade pip\n"
     ]
    }
   ],
   "source": [
    "pip install ipywidgets>=7.0.0"
   ]
  },
  {
   "cell_type": "code",
   "execution_count": 5,
   "id": "d0269023",
   "metadata": {},
   "outputs": [
    {
     "data": {
      "text/html": [
       "<div>\n",
       "<style scoped>\n",
       "    .dataframe tbody tr th:only-of-type {\n",
       "        vertical-align: middle;\n",
       "    }\n",
       "\n",
       "    .dataframe tbody tr th {\n",
       "        vertical-align: top;\n",
       "    }\n",
       "\n",
       "    .dataframe thead th {\n",
       "        text-align: right;\n",
       "    }\n",
       "</style>\n",
       "<table border=\"1\" class=\"dataframe\">\n",
       "  <thead>\n",
       "    <tr style=\"text-align: right;\">\n",
       "      <th></th>\n",
       "      <th>Date</th>\n",
       "      <th>Datatype</th>\n",
       "      <th>NDVI</th>\n",
       "      <th>Max Deg.F</th>\n",
       "      <th>Min Deg.F</th>\n",
       "      <th>Surface Soil Moisture (%)</th>\n",
       "      <th>Rootzone Soil Moisture (%)</th>\n",
       "      <th>Wind Speed (mph)</th>\n",
       "      <th>Humidity (%)</th>\n",
       "      <th>Precipitation (inch)</th>\n",
       "      <th>Heat Stress</th>\n",
       "      <th>Cold Stress</th>\n",
       "    </tr>\n",
       "  </thead>\n",
       "  <tbody>\n",
       "    <tr>\n",
       "      <th>0</th>\n",
       "      <td>6/25/2023</td>\n",
       "      <td>Historical data</td>\n",
       "      <td>-</td>\n",
       "      <td>93.2</td>\n",
       "      <td>69.8</td>\n",
       "      <td>-</td>\n",
       "      <td>-</td>\n",
       "      <td>4.6</td>\n",
       "      <td>51.5</td>\n",
       "      <td>0.0</td>\n",
       "      <td>0</td>\n",
       "      <td>0</td>\n",
       "    </tr>\n",
       "    <tr>\n",
       "      <th>1</th>\n",
       "      <td>6/24/2023</td>\n",
       "      <td>Historical data</td>\n",
       "      <td>-</td>\n",
       "      <td>86.0</td>\n",
       "      <td>60.8</td>\n",
       "      <td>-</td>\n",
       "      <td>-</td>\n",
       "      <td>5.2</td>\n",
       "      <td>67.0</td>\n",
       "      <td>0.0</td>\n",
       "      <td>0</td>\n",
       "      <td>0</td>\n",
       "    </tr>\n",
       "    <tr>\n",
       "      <th>2</th>\n",
       "      <td>6/23/2023</td>\n",
       "      <td>Historical data</td>\n",
       "      <td>-</td>\n",
       "      <td>84.2</td>\n",
       "      <td>59.0</td>\n",
       "      <td>-</td>\n",
       "      <td>-</td>\n",
       "      <td>5.4</td>\n",
       "      <td>70.5</td>\n",
       "      <td>0.0</td>\n",
       "      <td>0</td>\n",
       "      <td>0</td>\n",
       "    </tr>\n",
       "    <tr>\n",
       "      <th>3</th>\n",
       "      <td>6/22/2023</td>\n",
       "      <td>Historical data</td>\n",
       "      <td>-</td>\n",
       "      <td>69.8</td>\n",
       "      <td>60.8</td>\n",
       "      <td>-</td>\n",
       "      <td>-</td>\n",
       "      <td>4.1</td>\n",
       "      <td>92.0</td>\n",
       "      <td>1.0</td>\n",
       "      <td>0</td>\n",
       "      <td>0</td>\n",
       "    </tr>\n",
       "    <tr>\n",
       "      <th>4</th>\n",
       "      <td>6/21/2023</td>\n",
       "      <td>Historical data</td>\n",
       "      <td>-</td>\n",
       "      <td>78.8</td>\n",
       "      <td>66.2</td>\n",
       "      <td>-</td>\n",
       "      <td>-</td>\n",
       "      <td>7.4</td>\n",
       "      <td>83.0</td>\n",
       "      <td>1.1</td>\n",
       "      <td>0</td>\n",
       "      <td>0</td>\n",
       "    </tr>\n",
       "  </tbody>\n",
       "</table>\n",
       "</div>"
      ],
      "text/plain": [
       "        Date         Datatype NDVI  Max Deg.F  Min Deg.F  \\\n",
       "0  6/25/2023  Historical data    -       93.2       69.8   \n",
       "1  6/24/2023  Historical data    -       86.0       60.8   \n",
       "2  6/23/2023  Historical data    -       84.2       59.0   \n",
       "3  6/22/2023  Historical data    -       69.8       60.8   \n",
       "4  6/21/2023  Historical data    -       78.8       66.2   \n",
       "\n",
       "  Surface Soil Moisture (%) Rootzone Soil Moisture (%)  Wind Speed (mph)  \\\n",
       "0                         -                          -               4.6   \n",
       "1                         -                          -               5.2   \n",
       "2                         -                          -               5.4   \n",
       "3                         -                          -               4.1   \n",
       "4                         -                          -               7.4   \n",
       "\n",
       "   Humidity (%)  Precipitation (inch)  Heat Stress  Cold Stress  \n",
       "0          51.5                   0.0            0            0  \n",
       "1          67.0                   0.0            0            0  \n",
       "2          70.5                   0.0            0            0  \n",
       "3          92.0                   1.0            0            0  \n",
       "4          83.0                   1.1            0            0  "
      ]
     },
     "execution_count": 5,
     "metadata": {},
     "output_type": "execute_result"
    }
   ],
   "source": [
    "df = pd.read_csv('field 1.csv')\n",
    "df.head()"
   ]
  },
  {
   "cell_type": "code",
   "execution_count": 6,
   "id": "351b5b57",
   "metadata": {},
   "outputs": [
    {
     "data": {
      "text/plain": [
       "array(['Historical data'], dtype=object)"
      ]
     },
     "execution_count": 6,
     "metadata": {},
     "output_type": "execute_result"
    }
   ],
   "source": [
    "df.Datatype.unique()"
   ]
  },
  {
   "cell_type": "code",
   "execution_count": 7,
   "id": "e413a673",
   "metadata": {},
   "outputs": [
    {
     "data": {
      "text/plain": [
       "Index(['Date', 'Datatype', 'NDVI', 'Max Deg.F', 'Min Deg.F',\n",
       "       'Surface Soil Moisture (%)', 'Rootzone Soil Moisture (%)',\n",
       "       'Wind Speed (mph)', 'Humidity (%)', 'Precipitation (inch)',\n",
       "       'Heat Stress', 'Cold Stress'],\n",
       "      dtype='object')"
      ]
     },
     "execution_count": 7,
     "metadata": {},
     "output_type": "execute_result"
    }
   ],
   "source": [
    "df.columns"
   ]
  },
  {
   "cell_type": "code",
   "execution_count": 8,
   "id": "af02c866",
   "metadata": {},
   "outputs": [
    {
     "data": {
      "text/html": [
       "<div>\n",
       "<style scoped>\n",
       "    .dataframe tbody tr th:only-of-type {\n",
       "        vertical-align: middle;\n",
       "    }\n",
       "\n",
       "    .dataframe tbody tr th {\n",
       "        vertical-align: top;\n",
       "    }\n",
       "\n",
       "    .dataframe thead th {\n",
       "        text-align: right;\n",
       "    }\n",
       "</style>\n",
       "<table border=\"1\" class=\"dataframe\">\n",
       "  <thead>\n",
       "    <tr style=\"text-align: right;\">\n",
       "      <th></th>\n",
       "      <th>Date</th>\n",
       "      <th>Datatype</th>\n",
       "      <th>NDVI</th>\n",
       "      <th>Max Deg.F</th>\n",
       "      <th>Min Deg.F</th>\n",
       "      <th>Surface Soil Moisture (%)</th>\n",
       "      <th>Rootzone Soil Moisture (%)</th>\n",
       "      <th>Wind Speed (mph)</th>\n",
       "      <th>Humidity (%)</th>\n",
       "      <th>Precipitation (inch)</th>\n",
       "      <th>Heat Stress</th>\n",
       "      <th>Cold Stress</th>\n",
       "    </tr>\n",
       "  </thead>\n",
       "  <tbody>\n",
       "    <tr>\n",
       "      <th>0</th>\n",
       "      <td>2023-06-25</td>\n",
       "      <td>Historical data</td>\n",
       "      <td>-</td>\n",
       "      <td>93.2</td>\n",
       "      <td>69.8</td>\n",
       "      <td>-</td>\n",
       "      <td>-</td>\n",
       "      <td>4.6</td>\n",
       "      <td>51.5</td>\n",
       "      <td>0.0</td>\n",
       "      <td>0</td>\n",
       "      <td>0</td>\n",
       "    </tr>\n",
       "    <tr>\n",
       "      <th>1</th>\n",
       "      <td>2023-06-24</td>\n",
       "      <td>Historical data</td>\n",
       "      <td>-</td>\n",
       "      <td>86.0</td>\n",
       "      <td>60.8</td>\n",
       "      <td>-</td>\n",
       "      <td>-</td>\n",
       "      <td>5.2</td>\n",
       "      <td>67.0</td>\n",
       "      <td>0.0</td>\n",
       "      <td>0</td>\n",
       "      <td>0</td>\n",
       "    </tr>\n",
       "    <tr>\n",
       "      <th>2</th>\n",
       "      <td>2023-06-23</td>\n",
       "      <td>Historical data</td>\n",
       "      <td>-</td>\n",
       "      <td>84.2</td>\n",
       "      <td>59.0</td>\n",
       "      <td>-</td>\n",
       "      <td>-</td>\n",
       "      <td>5.4</td>\n",
       "      <td>70.5</td>\n",
       "      <td>0.0</td>\n",
       "      <td>0</td>\n",
       "      <td>0</td>\n",
       "    </tr>\n",
       "    <tr>\n",
       "      <th>3</th>\n",
       "      <td>2023-06-22</td>\n",
       "      <td>Historical data</td>\n",
       "      <td>-</td>\n",
       "      <td>69.8</td>\n",
       "      <td>60.8</td>\n",
       "      <td>-</td>\n",
       "      <td>-</td>\n",
       "      <td>4.1</td>\n",
       "      <td>92.0</td>\n",
       "      <td>1.0</td>\n",
       "      <td>0</td>\n",
       "      <td>0</td>\n",
       "    </tr>\n",
       "    <tr>\n",
       "      <th>4</th>\n",
       "      <td>2023-06-21</td>\n",
       "      <td>Historical data</td>\n",
       "      <td>-</td>\n",
       "      <td>78.8</td>\n",
       "      <td>66.2</td>\n",
       "      <td>-</td>\n",
       "      <td>-</td>\n",
       "      <td>7.4</td>\n",
       "      <td>83.0</td>\n",
       "      <td>1.1</td>\n",
       "      <td>0</td>\n",
       "      <td>0</td>\n",
       "    </tr>\n",
       "  </tbody>\n",
       "</table>\n",
       "</div>"
      ],
      "text/plain": [
       "        Date         Datatype NDVI  Max Deg.F  Min Deg.F  \\\n",
       "0 2023-06-25  Historical data    -       93.2       69.8   \n",
       "1 2023-06-24  Historical data    -       86.0       60.8   \n",
       "2 2023-06-23  Historical data    -       84.2       59.0   \n",
       "3 2023-06-22  Historical data    -       69.8       60.8   \n",
       "4 2023-06-21  Historical data    -       78.8       66.2   \n",
       "\n",
       "  Surface Soil Moisture (%) Rootzone Soil Moisture (%)  Wind Speed (mph)  \\\n",
       "0                         -                          -               4.6   \n",
       "1                         -                          -               5.2   \n",
       "2                         -                          -               5.4   \n",
       "3                         -                          -               4.1   \n",
       "4                         -                          -               7.4   \n",
       "\n",
       "   Humidity (%)  Precipitation (inch)  Heat Stress  Cold Stress  \n",
       "0          51.5                   0.0            0            0  \n",
       "1          67.0                   0.0            0            0  \n",
       "2          70.5                   0.0            0            0  \n",
       "3          92.0                   1.0            0            0  \n",
       "4          83.0                   1.1            0            0  "
      ]
     },
     "execution_count": 8,
     "metadata": {},
     "output_type": "execute_result"
    }
   ],
   "source": [
    "data = df[df['Datatype']=='Historical data']\n",
    "data['Date'] = pd.to_datetime(data['Date'])\n",
    "data.head()"
   ]
  },
  {
   "cell_type": "code",
   "execution_count": 9,
   "id": "fca561a5",
   "metadata": {},
   "outputs": [
    {
     "data": {
      "image/png": "[encoded data removed]",
      "text/plain": [
       "<Figure size 640x480 with 1 Axes>"
      ]
     },
     "metadata": {},
     "output_type": "display_data"
    }
   ],
   "source": [
    "plt.plot(data['Date'], data['Max Deg.F'])\n",
    "plt.show()"
   ]
  },
  {
   "cell_type": "code",
   "execution_count": 10,
   "id": "2d0e10dc",
   "metadata": {},
   "outputs": [
    {
     "data": {
      "image/png": "[encoded data removed]",
      "text/plain": [
       "<Figure size 640x480 with 1 Axes>"
      ]
     },
     "metadata": {},
     "output_type": "display_data"
    }
   ],
   "source": [
    "data['Year'] = data['Date'].apply(lambda x: x.year)\n",
    "plt.plot(data['Date'], data['Max Deg.F'])\n",
    "plt.show()"
   ]
  },
  {
   "cell_type": "code",
   "execution_count": 11,
   "id": "f9c0460f",
   "metadata": {
    "scrolled": true
   },
   "outputs": [
    {
     "name": "stderr",
     "output_type": "stream",
     "text": [
      "WARNING - (py.warnings._showwarnmsg) - C:\\Users\\Kavin Prabhakar\\AppData\\Local\\Temp\\ipykernel_21856\\4186112527.py:2: SettingWithCopyWarning: \n",
      "A value is trying to be set on a copy of a slice from a DataFrame\n",
      "\n",
      "See the caveats in the documentation: https://pandas.pydata.org/pandas-docs/stable/user_guide/indexing.html#returning-a-view-versus-a-copy\n",
      "  datasetMaxTemp.dropna(inplace=True)\n",
      "\n"
     ]
    },
    {
     "data": {
      "text/html": [
       "<div>\n",
       "<style scoped>\n",
       "    .dataframe tbody tr th:only-of-type {\n",
       "        vertical-align: middle;\n",
       "    }\n",
       "\n",
       "    .dataframe tbody tr th {\n",
       "        vertical-align: top;\n",
       "    }\n",
       "\n",
       "    .dataframe thead th {\n",
       "        text-align: right;\n",
       "    }\n",
       "</style>\n",
       "<table border=\"1\" class=\"dataframe\">\n",
       "  <thead>\n",
       "    <tr style=\"text-align: right;\">\n",
       "      <th></th>\n",
       "      <th>ds</th>\n",
       "      <th>y</th>\n",
       "    </tr>\n",
       "  </thead>\n",
       "  <tbody>\n",
       "    <tr>\n",
       "      <th>0</th>\n",
       "      <td>2023-06-25</td>\n",
       "      <td>93.2</td>\n",
       "    </tr>\n",
       "    <tr>\n",
       "      <th>1</th>\n",
       "      <td>2023-06-24</td>\n",
       "      <td>86.0</td>\n",
       "    </tr>\n",
       "    <tr>\n",
       "      <th>2</th>\n",
       "      <td>2023-06-23</td>\n",
       "      <td>84.2</td>\n",
       "    </tr>\n",
       "    <tr>\n",
       "      <th>3</th>\n",
       "      <td>2023-06-22</td>\n",
       "      <td>69.8</td>\n",
       "    </tr>\n",
       "    <tr>\n",
       "      <th>4</th>\n",
       "      <td>2023-06-21</td>\n",
       "      <td>78.8</td>\n",
       "    </tr>\n",
       "  </tbody>\n",
       "</table>\n",
       "</div>"
      ],
      "text/plain": [
       "          ds     y\n",
       "0 2023-06-25  93.2\n",
       "1 2023-06-24  86.0\n",
       "2 2023-06-23  84.2\n",
       "3 2023-06-22  69.8\n",
       "4 2023-06-21  78.8"
      ]
     },
     "execution_count": 11,
     "metadata": {},
     "output_type": "execute_result"
    }
   ],
   "source": [
    "datasetMaxTemp = data[['Date', 'Max Deg.F']] \n",
    "datasetMaxTemp.dropna(inplace=True)\n",
    "datasetMaxTemp.columns = ['ds', 'y'] \n",
    "datasetMaxTemp.head()"
   ]
  },
  {
   "cell_type": "code",
   "execution_count": 12,
   "id": "f751aa04",
   "metadata": {},
   "outputs": [],
   "source": [
    "mMaxTemp = NeuralProphet()"
   ]
  },
  {
   "cell_type": "code",
   "execution_count": 13,
   "id": "104bcd34",
   "metadata": {
    "scrolled": true
   },
   "outputs": [
    {
     "name": "stderr",
     "output_type": "stream",
     "text": [
      "WARNING - (NP.forecaster.fit) - When Global modeling with local normalization, metrics are displayed in normalized scale.\n",
      "INFO - (NP.df_utils._infer_frequency) - Major frequency D corresponds to 99.963% of the data.\n",
      "INFO - (NP.df_utils._infer_frequency) - Defined frequency is equal to major frequency - D\n",
      "INFO - (NP.config.init_data_params) - Setting normalization to global as only one dataframe provided for training.\n",
      "INFO - (NP.utils.set_auto_seasonalities) - Disabling daily seasonality. Run NeuralProphet with daily_seasonality=True to override this.\n",
      "INFO - (NP.config.set_auto_batch_epoch) - Auto-set batch_size to 32\n",
      "WARNING - (NP.config.set_lr_finder_args) - Learning rate finder: The number of batches (171) is too small than the required number for the learning rate finder (243). The results might not be optimal.\n"
     ]
    },
    {
     "data": {
      "application/vnd.jupyter.widget-view+json": {
       "model_id": "bc21de4f05e74515ae893e7d704b5c2b",
       "version_major": 2,
       "version_minor": 0
      },
      "text/plain": [
       "Finding best initial lr:   0%|          | 0/243 [00:00<?, ?it/s]"
      ]
     },
     "metadata": {},
     "output_type": "display_data"
    },
    {
     "data": {
      "application/vnd.jupyter.widget-view+json": {
       "model_id": "c8cb35686e0a44469a45152dc9d3ce4b",
       "version_major": 2,
       "version_minor": 0
      },
      "text/plain": [
       "Training: 0it [00:00, ?it/s]"
      ]
     },
     "metadata": {},
     "output_type": "display_data"
    }
   ],
   "source": [
    "modelMaxTemp = mMaxTemp.fit(datasetMaxTemp, freq='D', epochs=100)"
   ]
  },
  {
   "cell_type": "code",
   "execution_count": 19,
   "id": "a2eea98c",
   "metadata": {},
   "outputs": [
    {
     "name": "stderr",
     "output_type": "stream",
     "text": [
      "INFO - (NP.df_utils._infer_frequency) - Major frequency -1D corresponds to 99.963% of the data.\n",
      "WARNING - (NP.df_utils._infer_frequency) - Defined frequency D is different than major frequency -1D\n",
      "INFO - (NP.df_utils.return_df_in_original_format) - Returning df with no ID column\n",
      "INFO - (NP.df_utils._infer_frequency) - Major frequency D corresponds to 98.0% of the data.\n",
      "INFO - (NP.df_utils._infer_frequency) - Defined frequency is equal to major frequency - D\n",
      "INFO - (NP.df_utils._infer_frequency) - Major frequency D corresponds to 98.0% of the data.\n",
      "INFO - (NP.df_utils._infer_frequency) - Defined frequency is equal to major frequency - D\n"
     ]
    },
    {
     "data": {
      "application/vnd.jupyter.widget-view+json": {
       "model_id": "a0d4526c889740ae9a2ce97ebc51579c",
       "version_major": 2,
       "version_minor": 0
      },
      "text/plain": [
       "Predicting: 171it [00:00, ?it/s]"
      ]
     },
     "metadata": {},
     "output_type": "display_data"
    },
    {
     "name": "stderr",
     "output_type": "stream",
     "text": [
      "INFO - (NP.df_utils.return_df_in_original_format) - Returning df with no ID column\n"
     ]
    },
    {
     "name": "stdout",
     "output_type": "stream",
     "text": [
      "           ds     y      yhat1      trend  season_yearly  season_weekly\n",
      "0  2023-06-26  None  89.075188  72.652885      16.509254      -0.086952\n",
      "1  2023-06-27  None  89.392334  72.653778      16.578491       0.160068\n",
      "2  2023-06-28  None  89.678383  72.654663      16.643625       0.380089\n",
      "3  2023-06-29  None  89.642822  72.655563      16.705055       0.282206\n",
      "4  2023-06-30  None  89.068947  72.656448      16.763153      -0.350654\n",
      "5  2023-07-01  None  89.152084  72.657333      16.818287      -0.323537\n",
      "6  2023-07-02  None  89.467819  72.658234      16.870811      -0.061219\n",
      "7  2023-07-03  None  89.493233  72.659119      16.921062      -0.086952\n",
      "8  2023-07-04  None  89.789429  72.660011      16.969351       0.160068\n",
      "9  2023-07-05  None  90.056961  72.660904      17.015972       0.380089\n",
      "10 2023-07-06  None  90.005180  72.661789      17.061186       0.282206\n",
      "11 2023-07-07  None  89.417236  72.662682      17.105213      -0.350654\n",
      "12 2023-07-08  None  89.488297  72.663574      17.148262      -0.323537\n",
      "13 2023-07-09  None  89.793732  72.664459      17.190487      -0.061219\n",
      "14 2023-07-10  None  89.810425  72.665359      17.232023      -0.086952\n",
      "15 2023-07-11  None  90.099258  72.666245      17.272947       0.160068\n",
      "16 2023-07-12  None  90.360542  72.667130      17.313320       0.380089\n",
      "17 2023-07-13  None  90.303375  72.668022      17.353144       0.282206\n",
      "18 2023-07-14  None  89.710655  72.668915      17.392393      -0.350654\n",
      "19 2023-07-15  None  89.777267  72.669807      17.431004      -0.323537\n",
      "20 2023-07-16  None  90.078346  72.670700      17.468870      -0.061219\n",
      "21 2023-07-17  None  90.090485  72.671585      17.505854      -0.086952\n",
      "22 2023-07-18  None  90.374313  72.672470      17.541775       0.160068\n",
      "23 2023-07-19  None  90.629898  72.673370      17.576439       0.380089\n",
      "24 2023-07-20  None  90.566063  72.674255      17.609602       0.282206\n",
      "25 2023-07-21  None  89.965500  72.675148      17.641005      -0.350654\n",
      "26 2023-07-22  None  90.022850  72.676041      17.670355      -0.323537\n",
      "27 2023-07-23  None  90.313049  72.676926      17.697346      -0.061219\n",
      "28 2023-07-24  None  90.312523  72.677818      17.721659      -0.086952\n",
      "29 2023-07-25  None  90.581734  72.678711      17.742954       0.160068\n",
      "30 2023-07-26  None  90.820564  72.679596      17.760878       0.380089\n",
      "31 2023-07-27  None  90.737793  72.680496      17.775091       0.282206\n",
      "32 2023-07-28  None  90.115959  72.681381      17.785231      -0.350654\n",
      "33 2023-07-29  None  90.149681  72.682266      17.790945      -0.323537\n",
      "34 2023-07-30  None  90.413834  72.683167      17.791893      -0.061219\n",
      "35 2023-07-31  None  90.384842  72.684052      17.787745      -0.086952\n",
      "36 2023-08-01  None  90.623184  72.684944      17.778177       0.160068\n",
      "37 2023-08-02  None  90.828812  72.685837      17.762890       0.380089\n",
      "38 2023-08-03  None  90.710541  72.686722      17.741610       0.282206\n",
      "39 2023-08-04  None  90.051041  72.687614      17.714077      -0.350654\n",
      "40 2023-08-05  None  90.045044  72.688507      17.680073      -0.323537\n",
      "41 2023-08-06  None  90.267570  72.689392      17.639395      -0.061219\n",
      "42 2023-08-07  None  90.195221  72.690292      17.591883      -0.086952\n",
      "43 2023-08-08  None  90.388664  72.691177      17.537416       0.160068\n",
      "44 2023-08-09  None  90.548065  72.692062      17.475906       0.380089\n",
      "45 2023-08-10  None  90.382454  72.692963      17.407286       0.282206\n",
      "46 2023-08-11  None  89.674744  72.693848      17.331547      -0.350654\n",
      "47 2023-08-12  None  89.619919  72.694740      17.248716      -0.323537\n",
      "48 2023-08-13  None  89.793251  72.695633      17.158846      -0.061219\n",
      "49 2023-08-14  None  89.671600  72.696518      17.062037      -0.086952\n"
     ]
    }
   ],
   "source": [
    "future = mMaxTemp.make_future_dataframe(datasetMaxTemp, periods=50)\n",
    "forecast = mMaxTemp.predict(future)\n",
    "print(forecast)"
   ]
  },
  {
   "cell_type": "code",
   "execution_count": 15,
   "id": "b43ba148",
   "metadata": {},
   "outputs": [
    {
     "name": "stderr",
     "output_type": "stream",
     "text": [
      "WARNING - (py.warnings._showwarnmsg) - C:\\Users\\Kavin Prabhakar\\AppData\\Local\\Temp\\ipykernel_21856\\2280132288.py:2: SettingWithCopyWarning: \n",
      "A value is trying to be set on a copy of a slice from a DataFrame\n",
      "\n",
      "See the caveats in the documentation: https://pandas.pydata.org/pandas-docs/stable/user_guide/indexing.html#returning-a-view-versus-a-copy\n",
      "  datasetMinTemp.dropna(inplace=True)\n",
      "\n"
     ]
    },
    {
     "data": {
      "text/html": [
       "<div>\n",
       "<style scoped>\n",
       "    .dataframe tbody tr th:only-of-type {\n",
       "        vertical-align: middle;\n",
       "    }\n",
       "\n",
       "    .dataframe tbody tr th {\n",
       "        vertical-align: top;\n",
       "    }\n",
       "\n",
       "    .dataframe thead th {\n",
       "        text-align: right;\n",
       "    }\n",
       "</style>\n",
       "<table border=\"1\" class=\"dataframe\">\n",
       "  <thead>\n",
       "    <tr style=\"text-align: right;\">\n",
       "      <th></th>\n",
       "      <th>ds</th>\n",
       "      <th>y</th>\n",
       "    </tr>\n",
       "  </thead>\n",
       "  <tbody>\n",
       "    <tr>\n",
       "      <th>0</th>\n",
       "      <td>2023-06-25</td>\n",
       "      <td>69.8</td>\n",
       "    </tr>\n",
       "    <tr>\n",
       "      <th>1</th>\n",
       "      <td>2023-06-24</td>\n",
       "      <td>60.8</td>\n",
       "    </tr>\n",
       "    <tr>\n",
       "      <th>2</th>\n",
       "      <td>2023-06-23</td>\n",
       "      <td>59.0</td>\n",
       "    </tr>\n",
       "    <tr>\n",
       "      <th>3</th>\n",
       "      <td>2023-06-22</td>\n",
       "      <td>60.8</td>\n",
       "    </tr>\n",
       "    <tr>\n",
       "      <th>4</th>\n",
       "      <td>2023-06-21</td>\n",
       "      <td>66.2</td>\n",
       "    </tr>\n",
       "  </tbody>\n",
       "</table>\n",
       "</div>"
      ],
      "text/plain": [
       "          ds     y\n",
       "0 2023-06-25  69.8\n",
       "1 2023-06-24  60.8\n",
       "2 2023-06-23  59.0\n",
       "3 2023-06-22  60.8\n",
       "4 2023-06-21  66.2"
      ]
     },
     "execution_count": 15,
     "metadata": {},
     "output_type": "execute_result"
    }
   ],
   "source": [
    "datasetMinTemp = data[['Date', 'Min Deg.F']] \n",
    "datasetMinTemp.dropna(inplace=True)\n",
    "datasetMinTemp.columns = ['ds', 'y'] \n",
    "datasetMinTemp.head()"
   ]
  },
  {
   "cell_type": "code",
   "execution_count": null,
   "id": "9c1896a1",
   "metadata": {},
   "outputs": [],
   "source": []
  },
  {
   "cell_type": "code",
   "execution_count": 20,
   "id": "18988289",
   "metadata": {},
   "outputs": [],
   "source": [
    "mMinTemp = NeuralProphet()"
   ]
  },
  {
   "cell_type": "code",
   "execution_count": 22,
   "id": "e9b08e41",
   "metadata": {},
   "outputs": [
    {
     "name": "stderr",
     "output_type": "stream",
     "text": [
      "WARNING - (NP.forecaster.fit) - When Global modeling with local normalization, metrics are displayed in normalized scale.\n",
      "INFO - (NP.df_utils._infer_frequency) - Major frequency D corresponds to 99.963% of the data.\n",
      "INFO - (NP.df_utils._infer_frequency) - Defined frequency is equal to major frequency - D\n",
      "INFO - (NP.config.init_data_params) - Setting normalization to global as only one dataframe provided for training.\n",
      "INFO - (NP.utils.set_auto_seasonalities) - Disabling daily seasonality. Run NeuralProphet with daily_seasonality=True to override this.\n",
      "INFO - (NP.config.set_auto_batch_epoch) - Auto-set batch_size to 32\n",
      "WARNING - (NP.config.set_lr_finder_args) - Learning rate finder: The number of batches (171) is too small than the required number for the learning rate finder (243). The results might not be optimal.\n"
     ]
    },
    {
     "data": {
      "application/vnd.jupyter.widget-view+json": {
       "model_id": "5a27e89d84414ce39aa37f6d75271294",
       "version_major": 2,
       "version_minor": 0
      },
      "text/plain": [
       "Finding best initial lr:   0%|          | 0/243 [00:00<?, ?it/s]"
      ]
     },
     "metadata": {},
     "output_type": "display_data"
    },
    {
     "data": {
      "application/vnd.jupyter.widget-view+json": {
       "model_id": "7eb579bae44a4bf68851b5e71a16954b",
       "version_major": 2,
       "version_minor": 0
      },
      "text/plain": [
       "Training: 0it [00:00, ?it/s]"
      ]
     },
     "metadata": {},
     "output_type": "display_data"
    }
   ],
   "source": [
    "modelMinTemp = mMinTemp.fit(datasetMinTemp, freq='D', epochs=100)"
   ]
  },
  {
   "cell_type": "code",
   "execution_count": 23,
   "id": "001636ce",
   "metadata": {},
   "outputs": [
    {
     "name": "stderr",
     "output_type": "stream",
     "text": [
      "INFO - (NP.df_utils._infer_frequency) - Major frequency -1D corresponds to 99.963% of the data.\n",
      "WARNING - (NP.df_utils._infer_frequency) - Defined frequency D is different than major frequency -1D\n",
      "INFO - (NP.df_utils.return_df_in_original_format) - Returning df with no ID column\n",
      "INFO - (NP.df_utils._infer_frequency) - Major frequency D corresponds to 99.889% of the data.\n",
      "INFO - (NP.df_utils._infer_frequency) - Defined frequency is equal to major frequency - D\n",
      "INFO - (NP.df_utils._infer_frequency) - Major frequency D corresponds to 99.889% of the data.\n",
      "INFO - (NP.df_utils._infer_frequency) - Defined frequency is equal to major frequency - D\n"
     ]
    },
    {
     "data": {
      "application/vnd.jupyter.widget-view+json": {
       "model_id": "515fc6f29de943e78bec11589ac991cb",
       "version_major": 2,
       "version_minor": 0
      },
      "text/plain": [
       "Predicting: 171it [00:00, ?it/s]"
      ]
     },
     "metadata": {},
     "output_type": "display_data"
    },
    {
     "name": "stderr",
     "output_type": "stream",
     "text": [
      "INFO - (NP.df_utils.return_df_in_original_format) - Returning df with no ID column\n"
     ]
    },
    {
     "data": {
      "text/html": [
       "<div>\n",
       "<style scoped>\n",
       "    .dataframe tbody tr th:only-of-type {\n",
       "        vertical-align: middle;\n",
       "    }\n",
       "\n",
       "    .dataframe tbody tr th {\n",
       "        vertical-align: top;\n",
       "    }\n",
       "\n",
       "    .dataframe thead th {\n",
       "        text-align: right;\n",
       "    }\n",
       "</style>\n",
       "<table border=\"1\" class=\"dataframe\">\n",
       "  <thead>\n",
       "    <tr style=\"text-align: right;\">\n",
       "      <th></th>\n",
       "      <th>ds</th>\n",
       "      <th>y</th>\n",
       "      <th>yhat1</th>\n",
       "      <th>trend</th>\n",
       "      <th>season_yearly</th>\n",
       "      <th>season_weekly</th>\n",
       "    </tr>\n",
       "  </thead>\n",
       "  <tbody>\n",
       "    <tr>\n",
       "      <th>0</th>\n",
       "      <td>2023-06-26</td>\n",
       "      <td>None</td>\n",
       "      <td>68.041298</td>\n",
       "      <td>52.542892</td>\n",
       "      <td>15.484065</td>\n",
       "      <td>0.014336</td>\n",
       "    </tr>\n",
       "    <tr>\n",
       "      <th>1</th>\n",
       "      <td>2023-06-27</td>\n",
       "      <td>None</td>\n",
       "      <td>68.573814</td>\n",
       "      <td>52.541534</td>\n",
       "      <td>15.585706</td>\n",
       "      <td>0.446571</td>\n",
       "    </tr>\n",
       "    <tr>\n",
       "      <th>2</th>\n",
       "      <td>2023-06-28</td>\n",
       "      <td>None</td>\n",
       "      <td>68.505852</td>\n",
       "      <td>52.540176</td>\n",
       "      <td>15.682081</td>\n",
       "      <td>0.283597</td>\n",
       "    </tr>\n",
       "    <tr>\n",
       "      <th>3</th>\n",
       "      <td>2023-06-29</td>\n",
       "      <td>None</td>\n",
       "      <td>68.430382</td>\n",
       "      <td>52.538818</td>\n",
       "      <td>15.773369</td>\n",
       "      <td>0.118193</td>\n",
       "    </tr>\n",
       "    <tr>\n",
       "      <th>4</th>\n",
       "      <td>2023-06-30</td>\n",
       "      <td>None</td>\n",
       "      <td>68.125443</td>\n",
       "      <td>52.537460</td>\n",
       "      <td>15.859754</td>\n",
       "      <td>-0.271774</td>\n",
       "    </tr>\n",
       "  </tbody>\n",
       "</table>\n",
       "</div>"
      ],
      "text/plain": [
       "          ds     y      yhat1      trend  season_yearly  season_weekly\n",
       "0 2023-06-26  None  68.041298  52.542892      15.484065       0.014336\n",
       "1 2023-06-27  None  68.573814  52.541534      15.585706       0.446571\n",
       "2 2023-06-28  None  68.505852  52.540176      15.682081       0.283597\n",
       "3 2023-06-29  None  68.430382  52.538818      15.773369       0.118193\n",
       "4 2023-06-30  None  68.125443  52.537460      15.859754      -0.271774"
      ]
     },
     "execution_count": 23,
     "metadata": {},
     "output_type": "execute_result"
    }
   ],
   "source": [
    "futureMinTemp = mMinTemp.make_future_dataframe(datasetMinTemp, periods=900)\n",
    "forecastMinTemp = mMinTemp.predict(futureMinTemp)\n",
    "forecastMinTemp.head()"
   ]
  },
  {
   "cell_type": "code",
   "execution_count": 24,
   "id": "10099488",
   "metadata": {},
   "outputs": [
    {
     "name": "stderr",
     "output_type": "stream",
     "text": [
      "WARNING - (py.warnings._showwarnmsg) - C:\\Users\\Kavin Prabhakar\\AppData\\Local\\Temp\\ipykernel_15572\\1851315174.py:2: SettingWithCopyWarning:\n",
      "\n",
      "\n",
      "A value is trying to be set on a copy of a slice from a DataFrame\n",
      "\n",
      "See the caveats in the documentation: https://pandas.pydata.org/pandas-docs/stable/user_guide/indexing.html#returning-a-view-versus-a-copy\n",
      "\n",
      "\n"
     ]
    },
    {
     "data": {
      "text/html": [
       "<div>\n",
       "<style scoped>\n",
       "    .dataframe tbody tr th:only-of-type {\n",
       "        vertical-align: middle;\n",
       "    }\n",
       "\n",
       "    .dataframe tbody tr th {\n",
       "        vertical-align: top;\n",
       "    }\n",
       "\n",
       "    .dataframe thead th {\n",
       "        text-align: right;\n",
       "    }\n",
       "</style>\n",
       "<table border=\"1\" class=\"dataframe\">\n",
       "  <thead>\n",
       "    <tr style=\"text-align: right;\">\n",
       "      <th></th>\n",
       "      <th>ds</th>\n",
       "      <th>y</th>\n",
       "    </tr>\n",
       "  </thead>\n",
       "  <tbody>\n",
       "    <tr>\n",
       "      <th>0</th>\n",
       "      <td>2023-06-25</td>\n",
       "      <td>0.0</td>\n",
       "    </tr>\n",
       "    <tr>\n",
       "      <th>1</th>\n",
       "      <td>2023-06-24</td>\n",
       "      <td>0.0</td>\n",
       "    </tr>\n",
       "    <tr>\n",
       "      <th>2</th>\n",
       "      <td>2023-06-23</td>\n",
       "      <td>0.0</td>\n",
       "    </tr>\n",
       "    <tr>\n",
       "      <th>3</th>\n",
       "      <td>2023-06-22</td>\n",
       "      <td>1.0</td>\n",
       "    </tr>\n",
       "    <tr>\n",
       "      <th>4</th>\n",
       "      <td>2023-06-21</td>\n",
       "      <td>1.1</td>\n",
       "    </tr>\n",
       "  </tbody>\n",
       "</table>\n",
       "</div>"
      ],
      "text/plain": [
       "          ds    y\n",
       "0 2023-06-25  0.0\n",
       "1 2023-06-24  0.0\n",
       "2 2023-06-23  0.0\n",
       "3 2023-06-22  1.0\n",
       "4 2023-06-21  1.1"
      ]
     },
     "execution_count": 24,
     "metadata": {},
     "output_type": "execute_result"
    }
   ],
   "source": [
    "datasetPrecip = data[['Date', 'Precipitation (inch)']] \n",
    "datasetPrecip.dropna(inplace=True)\n",
    "datasetPrecip.columns = ['ds', 'y'] \n",
    "datasetPrecip.head()"
   ]
  },
  {
   "cell_type": "code",
   "execution_count": 25,
   "id": "fd8add6a",
   "metadata": {},
   "outputs": [],
   "source": [
    "mPrecip = NeuralProphet()"
   ]
  },
  {
   "cell_type": "code",
   "execution_count": 26,
   "id": "6e73fea2",
   "metadata": {
    "scrolled": true
   },
   "outputs": [
    {
     "name": "stderr",
     "output_type": "stream",
     "text": [
      "WARNING - (NP.forecaster.fit) - When Global modeling with local normalization, metrics are displayed in normalized scale.\n",
      "INFO - (NP.df_utils._infer_frequency) - Major frequency D corresponds to 99.963% of the data.\n",
      "INFO - (NP.df_utils._infer_frequency) - Defined frequency is equal to major frequency - D\n",
      "INFO - (NP.config.init_data_params) - Setting normalization to global as only one dataframe provided for training.\n",
      "INFO - (NP.utils.set_auto_seasonalities) - Disabling daily seasonality. Run NeuralProphet with daily_seasonality=True to override this.\n",
      "INFO - (NP.config.set_auto_batch_epoch) - Auto-set batch_size to 32\n",
      "WARNING - (NP.config.set_lr_finder_args) - Learning rate finder: The number of batches (171) is too small than the required number for the learning rate finder (243). The results might not be optimal.\n"
     ]
    },
    {
     "data": {
      "application/vnd.jupyter.widget-view+json": {
       "model_id": "b0e3655f3bc548faa3bfba09d087e79c",
       "version_major": 2,
       "version_minor": 0
      },
      "text/plain": [
       "Finding best initial lr:   0%|          | 0/243 [00:00<?, ?it/s]"
      ]
     },
     "metadata": {},
     "output_type": "display_data"
    },
    {
     "data": {
      "application/vnd.jupyter.widget-view+json": {
       "model_id": "210bdada882c4481a66938f053922cb3",
       "version_major": 2,
       "version_minor": 0
      },
      "text/plain": [
       "Training: 0it [00:00, ?it/s]"
      ]
     },
     "metadata": {},
     "output_type": "display_data"
    }
   ],
   "source": [
    "modelPrecip = mPrecip.fit(datasetPrecip, freq='D', epochs=100)"
   ]
  },
  {
   "cell_type": "code",
   "execution_count": 28,
   "id": "f051ff14",
   "metadata": {},
   "outputs": [
    {
     "name": "stderr",
     "output_type": "stream",
     "text": [
      "INFO - (NP.df_utils._infer_frequency) - Major frequency -1D corresponds to 99.963% of the data.\n",
      "WARNING - (NP.df_utils._infer_frequency) - Defined frequency D is different than major frequency -1D\n",
      "INFO - (NP.df_utils.return_df_in_original_format) - Returning df with no ID column\n",
      "INFO - (NP.df_utils._infer_frequency) - Major frequency D corresponds to 99.889% of the data.\n",
      "INFO - (NP.df_utils._infer_frequency) - Defined frequency is equal to major frequency - D\n",
      "INFO - (NP.df_utils._infer_frequency) - Major frequency D corresponds to 99.889% of the data.\n",
      "INFO - (NP.df_utils._infer_frequency) - Defined frequency is equal to major frequency - D\n"
     ]
    },
    {
     "data": {
      "application/vnd.jupyter.widget-view+json": {
       "model_id": "4011ae4861cf42189f8070c19d9fc3b2",
       "version_major": 2,
       "version_minor": 0
      },
      "text/plain": [
       "Predicting: 171it [00:00, ?it/s]"
      ]
     },
     "metadata": {},
     "output_type": "display_data"
    },
    {
     "name": "stderr",
     "output_type": "stream",
     "text": [
      "INFO - (NP.df_utils.return_df_in_original_format) - Returning df with no ID column\n"
     ]
    },
    {
     "data": {
      "text/html": [
       "<div>\n",
       "<style scoped>\n",
       "    .dataframe tbody tr th:only-of-type {\n",
       "        vertical-align: middle;\n",
       "    }\n",
       "\n",
       "    .dataframe tbody tr th {\n",
       "        vertical-align: top;\n",
       "    }\n",
       "\n",
       "    .dataframe thead th {\n",
       "        text-align: right;\n",
       "    }\n",
       "</style>\n",
       "<table border=\"1\" class=\"dataframe\">\n",
       "  <thead>\n",
       "    <tr style=\"text-align: right;\">\n",
       "      <th></th>\n",
       "      <th>ds</th>\n",
       "      <th>y</th>\n",
       "      <th>yhat1</th>\n",
       "      <th>trend</th>\n",
       "      <th>season_yearly</th>\n",
       "      <th>season_weekly</th>\n",
       "    </tr>\n",
       "  </thead>\n",
       "  <tbody>\n",
       "    <tr>\n",
       "      <th>0</th>\n",
       "      <td>2023-06-26</td>\n",
       "      <td>None</td>\n",
       "      <td>0.198258</td>\n",
       "      <td>0.150243</td>\n",
       "      <td>0.035027</td>\n",
       "      <td>0.012988</td>\n",
       "    </tr>\n",
       "    <tr>\n",
       "      <th>1</th>\n",
       "      <td>2023-06-27</td>\n",
       "      <td>None</td>\n",
       "      <td>0.184643</td>\n",
       "      <td>0.150231</td>\n",
       "      <td>0.035444</td>\n",
       "      <td>-0.001032</td>\n",
       "    </tr>\n",
       "    <tr>\n",
       "      <th>2</th>\n",
       "      <td>2023-06-28</td>\n",
       "      <td>None</td>\n",
       "      <td>0.186972</td>\n",
       "      <td>0.150220</td>\n",
       "      <td>0.035727</td>\n",
       "      <td>0.001024</td>\n",
       "    </tr>\n",
       "    <tr>\n",
       "      <th>3</th>\n",
       "      <td>2023-06-29</td>\n",
       "      <td>None</td>\n",
       "      <td>0.190625</td>\n",
       "      <td>0.150209</td>\n",
       "      <td>0.035881</td>\n",
       "      <td>0.004534</td>\n",
       "    </tr>\n",
       "    <tr>\n",
       "      <th>4</th>\n",
       "      <td>2023-06-30</td>\n",
       "      <td>None</td>\n",
       "      <td>0.173420</td>\n",
       "      <td>0.150198</td>\n",
       "      <td>0.035912</td>\n",
       "      <td>-0.012690</td>\n",
       "    </tr>\n",
       "  </tbody>\n",
       "</table>\n",
       "</div>"
      ],
      "text/plain": [
       "          ds     y     yhat1     trend  season_yearly  season_weekly\n",
       "0 2023-06-26  None  0.198258  0.150243       0.035027       0.012988\n",
       "1 2023-06-27  None  0.184643  0.150231       0.035444      -0.001032\n",
       "2 2023-06-28  None  0.186972  0.150220       0.035727       0.001024\n",
       "3 2023-06-29  None  0.190625  0.150209       0.035881       0.004534\n",
       "4 2023-06-30  None  0.173420  0.150198       0.035912      -0.012690"
      ]
     },
     "execution_count": 28,
     "metadata": {},
     "output_type": "execute_result"
    }
   ],
   "source": [
    "futurePrecip = mPrecip.make_future_dataframe(datasetPrecip, periods=900)\n",
    "forecastPrecip = mPrecip.predict(futurePrecip)\n",
    "forecastPrecip.head()"
   ]
  },
  {
   "cell_type": "code",
   "execution_count": 29,
   "id": "5ab8b2e8",
   "metadata": {},
   "outputs": [
    {
     "name": "stderr",
     "output_type": "stream",
     "text": [
      "WARNING - (py.warnings._showwarnmsg) - C:\\Users\\Kavin Prabhakar\\AppData\\Local\\Temp\\ipykernel_15572\\1109431912.py:2: SettingWithCopyWarning:\n",
      "\n",
      "\n",
      "A value is trying to be set on a copy of a slice from a DataFrame\n",
      "\n",
      "See the caveats in the documentation: https://pandas.pydata.org/pandas-docs/stable/user_guide/indexing.html#returning-a-view-versus-a-copy\n",
      "\n",
      "\n"
     ]
    },
    {
     "data": {
      "text/html": [
       "<div>\n",
       "<style scoped>\n",
       "    .dataframe tbody tr th:only-of-type {\n",
       "        vertical-align: middle;\n",
       "    }\n",
       "\n",
       "    .dataframe tbody tr th {\n",
       "        vertical-align: top;\n",
       "    }\n",
       "\n",
       "    .dataframe thead th {\n",
       "        text-align: right;\n",
       "    }\n",
       "</style>\n",
       "<table border=\"1\" class=\"dataframe\">\n",
       "  <thead>\n",
       "    <tr style=\"text-align: right;\">\n",
       "      <th></th>\n",
       "      <th>ds</th>\n",
       "      <th>y</th>\n",
       "    </tr>\n",
       "  </thead>\n",
       "  <tbody>\n",
       "    <tr>\n",
       "      <th>0</th>\n",
       "      <td>2023-06-25</td>\n",
       "      <td>4.6</td>\n",
       "    </tr>\n",
       "    <tr>\n",
       "      <th>1</th>\n",
       "      <td>2023-06-24</td>\n",
       "      <td>5.2</td>\n",
       "    </tr>\n",
       "    <tr>\n",
       "      <th>2</th>\n",
       "      <td>2023-06-23</td>\n",
       "      <td>5.4</td>\n",
       "    </tr>\n",
       "    <tr>\n",
       "      <th>3</th>\n",
       "      <td>2023-06-22</td>\n",
       "      <td>4.1</td>\n",
       "    </tr>\n",
       "    <tr>\n",
       "      <th>4</th>\n",
       "      <td>2023-06-21</td>\n",
       "      <td>7.4</td>\n",
       "    </tr>\n",
       "  </tbody>\n",
       "</table>\n",
       "</div>"
      ],
      "text/plain": [
       "          ds    y\n",
       "0 2023-06-25  4.6\n",
       "1 2023-06-24  5.2\n",
       "2 2023-06-23  5.4\n",
       "3 2023-06-22  4.1\n",
       "4 2023-06-21  7.4"
      ]
     },
     "execution_count": 29,
     "metadata": {},
     "output_type": "execute_result"
    }
   ],
   "source": [
    "datasetWind = data[['Date', 'Wind Speed (mph)']] \n",
    "datasetWind.dropna(inplace=True)\n",
    "datasetWind.columns = ['ds', 'y'] \n",
    "datasetWind.head()"
   ]
  },
  {
   "cell_type": "code",
   "execution_count": 30,
   "id": "13d8c367",
   "metadata": {},
   "outputs": [],
   "source": [
    "mWind = NeuralProphet()"
   ]
  },
  {
   "cell_type": "code",
   "execution_count": 31,
   "id": "a76f5d44",
   "metadata": {},
   "outputs": [
    {
     "name": "stderr",
     "output_type": "stream",
     "text": [
      "WARNING - (NP.forecaster.fit) - When Global modeling with local normalization, metrics are displayed in normalized scale.\n",
      "INFO - (NP.df_utils._infer_frequency) - Major frequency D corresponds to 99.963% of the data.\n",
      "INFO - (NP.df_utils._infer_frequency) - Defined frequency is equal to major frequency - D\n",
      "INFO - (NP.config.init_data_params) - Setting normalization to global as only one dataframe provided for training.\n",
      "INFO - (NP.utils.set_auto_seasonalities) - Disabling daily seasonality. Run NeuralProphet with daily_seasonality=True to override this.\n",
      "INFO - (NP.config.set_auto_batch_epoch) - Auto-set batch_size to 32\n",
      "WARNING - (NP.config.set_lr_finder_args) - Learning rate finder: The number of batches (171) is too small than the required number for the learning rate finder (243). The results might not be optimal.\n"
     ]
    },
    {
     "data": {
      "application/vnd.jupyter.widget-view+json": {
       "model_id": "1c80f05e303a4eb6ba4d8660724f9c26",
       "version_major": 2,
       "version_minor": 0
      },
      "text/plain": [
       "Finding best initial lr:   0%|          | 0/243 [00:00<?, ?it/s]"
      ]
     },
     "metadata": {},
     "output_type": "display_data"
    },
    {
     "data": {
      "application/vnd.jupyter.widget-view+json": {
       "model_id": "7961a132720f4398b24f7cc873f2d646",
       "version_major": 2,
       "version_minor": 0
      },
      "text/plain": [
       "Training: 0it [00:00, ?it/s]"
      ]
     },
     "metadata": {},
     "output_type": "display_data"
    }
   ],
   "source": [
    "modelWind = mWind.fit(datasetWind, freq='D', epochs=100)"
   ]
  },
  {
   "cell_type": "code",
   "execution_count": 32,
   "id": "f7151801",
   "metadata": {},
   "outputs": [
    {
     "name": "stderr",
     "output_type": "stream",
     "text": [
      "INFO - (NP.df_utils._infer_frequency) - Major frequency -1D corresponds to 99.963% of the data.\n",
      "WARNING - (NP.df_utils._infer_frequency) - Defined frequency D is different than major frequency -1D\n",
      "INFO - (NP.df_utils.return_df_in_original_format) - Returning df with no ID column\n",
      "INFO - (NP.df_utils._infer_frequency) - Major frequency D corresponds to 99.889% of the data.\n",
      "INFO - (NP.df_utils._infer_frequency) - Defined frequency is equal to major frequency - D\n",
      "INFO - (NP.df_utils._infer_frequency) - Major frequency D corresponds to 99.889% of the data.\n",
      "INFO - (NP.df_utils._infer_frequency) - Defined frequency is equal to major frequency - D\n"
     ]
    },
    {
     "data": {
      "application/vnd.jupyter.widget-view+json": {
       "model_id": "b49b37277b6a4b468d9d02896f0ade54",
       "version_major": 2,
       "version_minor": 0
      },
      "text/plain": [
       "Predicting: 171it [00:00, ?it/s]"
      ]
     },
     "metadata": {},
     "output_type": "display_data"
    },
    {
     "name": "stderr",
     "output_type": "stream",
     "text": [
      "INFO - (NP.df_utils.return_df_in_original_format) - Returning df with no ID column\n"
     ]
    },
    {
     "data": {
      "text/html": [
       "<div>\n",
       "<style scoped>\n",
       "    .dataframe tbody tr th:only-of-type {\n",
       "        vertical-align: middle;\n",
       "    }\n",
       "\n",
       "    .dataframe tbody tr th {\n",
       "        vertical-align: top;\n",
       "    }\n",
       "\n",
       "    .dataframe thead th {\n",
       "        text-align: right;\n",
       "    }\n",
       "</style>\n",
       "<table border=\"1\" class=\"dataframe\">\n",
       "  <thead>\n",
       "    <tr style=\"text-align: right;\">\n",
       "      <th></th>\n",
       "      <th>ds</th>\n",
       "      <th>y</th>\n",
       "      <th>yhat1</th>\n",
       "      <th>trend</th>\n",
       "      <th>season_yearly</th>\n",
       "      <th>season_weekly</th>\n",
       "    </tr>\n",
       "  </thead>\n",
       "  <tbody>\n",
       "    <tr>\n",
       "      <th>0</th>\n",
       "      <td>2023-06-26</td>\n",
       "      <td>None</td>\n",
       "      <td>4.834883</td>\n",
       "      <td>5.985917</td>\n",
       "      <td>-1.139453</td>\n",
       "      <td>-0.011581</td>\n",
       "    </tr>\n",
       "    <tr>\n",
       "      <th>1</th>\n",
       "      <td>2023-06-27</td>\n",
       "      <td>None</td>\n",
       "      <td>4.738875</td>\n",
       "      <td>5.986270</td>\n",
       "      <td>-1.160046</td>\n",
       "      <td>-0.087349</td>\n",
       "    </tr>\n",
       "    <tr>\n",
       "      <th>2</th>\n",
       "      <td>2023-06-28</td>\n",
       "      <td>None</td>\n",
       "      <td>4.752267</td>\n",
       "      <td>5.986623</td>\n",
       "      <td>-1.182408</td>\n",
       "      <td>-0.051949</td>\n",
       "    </tr>\n",
       "    <tr>\n",
       "      <th>3</th>\n",
       "      <td>2023-06-29</td>\n",
       "      <td>None</td>\n",
       "      <td>4.855087</td>\n",
       "      <td>5.986977</td>\n",
       "      <td>-1.206497</td>\n",
       "      <td>0.074607</td>\n",
       "    </tr>\n",
       "    <tr>\n",
       "      <th>4</th>\n",
       "      <td>2023-06-30</td>\n",
       "      <td>None</td>\n",
       "      <td>4.779044</td>\n",
       "      <td>5.987329</td>\n",
       "      <td>-1.232251</td>\n",
       "      <td>0.023965</td>\n",
       "    </tr>\n",
       "  </tbody>\n",
       "</table>\n",
       "</div>"
      ],
      "text/plain": [
       "          ds     y     yhat1     trend  season_yearly  season_weekly\n",
       "0 2023-06-26  None  4.834883  5.985917      -1.139453      -0.011581\n",
       "1 2023-06-27  None  4.738875  5.986270      -1.160046      -0.087349\n",
       "2 2023-06-28  None  4.752267  5.986623      -1.182408      -0.051949\n",
       "3 2023-06-29  None  4.855087  5.986977      -1.206497       0.074607\n",
       "4 2023-06-30  None  4.779044  5.987329      -1.232251       0.023965"
      ]
     },
     "execution_count": 32,
     "metadata": {},
     "output_type": "execute_result"
    }
   ],
   "source": [
    "futureWind = mWind.make_future_dataframe(datasetWind, periods=900)\n",
    "forecastWind = mWind.predict(futureWind)\n",
    "forecastWind.head()"
   ]
  },
  {
   "cell_type": "code",
   "execution_count": 35,
   "id": "8d9217d9",
   "metadata": {},
   "outputs": [
    {
     "name": "stderr",
     "output_type": "stream",
     "text": [
      "WARNING - (py.warnings._showwarnmsg) - C:\\Users\\Kavin Prabhakar\\AppData\\Local\\Temp\\ipykernel_15572\\3660831240.py:2: SettingWithCopyWarning:\n",
      "\n",
      "\n",
      "A value is trying to be set on a copy of a slice from a DataFrame\n",
      "\n",
      "See the caveats in the documentation: https://pandas.pydata.org/pandas-docs/stable/user_guide/indexing.html#returning-a-view-versus-a-copy\n",
      "\n",
      "\n"
     ]
    },
    {
     "data": {
      "text/html": [
       "<div>\n",
       "<style scoped>\n",
       "    .dataframe tbody tr th:only-of-type {\n",
       "        vertical-align: middle;\n",
       "    }\n",
       "\n",
       "    .dataframe tbody tr th {\n",
       "        vertical-align: top;\n",
       "    }\n",
       "\n",
       "    .dataframe thead th {\n",
       "        text-align: right;\n",
       "    }\n",
       "</style>\n",
       "<table border=\"1\" class=\"dataframe\">\n",
       "  <thead>\n",
       "    <tr style=\"text-align: right;\">\n",
       "      <th></th>\n",
       "      <th>ds</th>\n",
       "      <th>y</th>\n",
       "    </tr>\n",
       "  </thead>\n",
       "  <tbody>\n",
       "    <tr>\n",
       "      <th>0</th>\n",
       "      <td>2023-06-25</td>\n",
       "      <td>51.5</td>\n",
       "    </tr>\n",
       "    <tr>\n",
       "      <th>1</th>\n",
       "      <td>2023-06-24</td>\n",
       "      <td>67.0</td>\n",
       "    </tr>\n",
       "    <tr>\n",
       "      <th>2</th>\n",
       "      <td>2023-06-23</td>\n",
       "      <td>70.5</td>\n",
       "    </tr>\n",
       "    <tr>\n",
       "      <th>3</th>\n",
       "      <td>2023-06-22</td>\n",
       "      <td>92.0</td>\n",
       "    </tr>\n",
       "    <tr>\n",
       "      <th>4</th>\n",
       "      <td>2023-06-21</td>\n",
       "      <td>83.0</td>\n",
       "    </tr>\n",
       "  </tbody>\n",
       "</table>\n",
       "</div>"
      ],
      "text/plain": [
       "          ds     y\n",
       "0 2023-06-25  51.5\n",
       "1 2023-06-24  67.0\n",
       "2 2023-06-23  70.5\n",
       "3 2023-06-22  92.0\n",
       "4 2023-06-21  83.0"
      ]
     },
     "execution_count": 35,
     "metadata": {},
     "output_type": "execute_result"
    }
   ],
   "source": [
    "datasetHumidity = data[['Date', 'Humidity (%)']] \n",
    "datasetHumidity.dropna(inplace=True)\n",
    "datasetHumidity.columns = ['ds', 'y'] \n",
    "datasetHumidity.head()"
   ]
  },
  {
   "cell_type": "code",
   "execution_count": 36,
   "id": "d96f3dbd",
   "metadata": {},
   "outputs": [],
   "source": [
    "mHumidity = NeuralProphet()"
   ]
  },
  {
   "cell_type": "code",
   "execution_count": 37,
   "id": "c7152314",
   "metadata": {},
   "outputs": [
    {
     "name": "stderr",
     "output_type": "stream",
     "text": [
      "WARNING - (NP.forecaster.fit) - When Global modeling with local normalization, metrics are displayed in normalized scale.\n",
      "INFO - (NP.df_utils._infer_frequency) - Major frequency D corresponds to 99.963% of the data.\n",
      "INFO - (NP.df_utils._infer_frequency) - Defined frequency is equal to major frequency - D\n",
      "INFO - (NP.config.init_data_params) - Setting normalization to global as only one dataframe provided for training.\n",
      "INFO - (NP.utils.set_auto_seasonalities) - Disabling daily seasonality. Run NeuralProphet with daily_seasonality=True to override this.\n",
      "INFO - (NP.config.set_auto_batch_epoch) - Auto-set batch_size to 32\n",
      "WARNING - (NP.config.set_lr_finder_args) - Learning rate finder: The number of batches (171) is too small than the required number for the learning rate finder (243). The results might not be optimal.\n"
     ]
    },
    {
     "data": {
      "application/vnd.jupyter.widget-view+json": {
       "model_id": "14f470f03c20473fbf992c5cb23707ed",
       "version_major": 2,
       "version_minor": 0
      },
      "text/plain": [
       "Finding best initial lr:   0%|          | 0/243 [00:00<?, ?it/s]"
      ]
     },
     "metadata": {},
     "output_type": "display_data"
    },
    {
     "data": {
      "application/vnd.jupyter.widget-view+json": {
       "model_id": "c19d92965d894a1394d09721301a04f9",
       "version_major": 2,
       "version_minor": 0
      },
      "text/plain": [
       "Training: 0it [00:00, ?it/s]"
      ]
     },
     "metadata": {},
     "output_type": "display_data"
    }
   ],
   "source": [
    "modelHumidity = mHumidity.fit(datasetHumidity, freq='D', epochs=100)"
   ]
  },
  {
   "cell_type": "code",
   "execution_count": 38,
   "id": "8b546e12",
   "metadata": {
    "scrolled": false
   },
   "outputs": [
    {
     "name": "stderr",
     "output_type": "stream",
     "text": [
      "INFO - (NP.df_utils._infer_frequency) - Major frequency -1D corresponds to 99.963% of the data.\n",
      "WARNING - (NP.df_utils._infer_frequency) - Defined frequency D is different than major frequency -1D\n",
      "INFO - (NP.df_utils.return_df_in_original_format) - Returning df with no ID column\n",
      "INFO - (NP.df_utils._infer_frequency) - Major frequency D corresponds to 99.889% of the data.\n",
      "INFO - (NP.df_utils._infer_frequency) - Defined frequency is equal to major frequency - D\n",
      "INFO - (NP.df_utils._infer_frequency) - Major frequency D corresponds to 99.889% of the data.\n",
      "INFO - (NP.df_utils._infer_frequency) - Defined frequency is equal to major frequency - D\n"
     ]
    },
    {
     "data": {
      "application/vnd.jupyter.widget-view+json": {
       "model_id": "164b68f1305041c0987996db5a609fa3",
       "version_major": 2,
       "version_minor": 0
      },
      "text/plain": [
       "Predicting: 171it [00:00, ?it/s]"
      ]
     },
     "metadata": {},
     "output_type": "display_data"
    },
    {
     "name": "stderr",
     "output_type": "stream",
     "text": [
      "INFO - (NP.df_utils.return_df_in_original_format) - Returning df with no ID column\n"
     ]
    },
    {
     "data": {
      "text/html": [
       "<div>\n",
       "<style scoped>\n",
       "    .dataframe tbody tr th:only-of-type {\n",
       "        vertical-align: middle;\n",
       "    }\n",
       "\n",
       "    .dataframe tbody tr th {\n",
       "        vertical-align: top;\n",
       "    }\n",
       "\n",
       "    .dataframe thead th {\n",
       "        text-align: right;\n",
       "    }\n",
       "</style>\n",
       "<table border=\"1\" class=\"dataframe\">\n",
       "  <thead>\n",
       "    <tr style=\"text-align: right;\">\n",
       "      <th></th>\n",
       "      <th>ds</th>\n",
       "      <th>y</th>\n",
       "      <th>yhat1</th>\n",
       "      <th>trend</th>\n",
       "      <th>season_yearly</th>\n",
       "      <th>season_weekly</th>\n",
       "    </tr>\n",
       "  </thead>\n",
       "  <tbody>\n",
       "    <tr>\n",
       "      <th>0</th>\n",
       "      <td>2023-06-26</td>\n",
       "      <td>None</td>\n",
       "      <td>69.245621</td>\n",
       "      <td>69.378998</td>\n",
       "      <td>-0.560383</td>\n",
       "      <td>0.427005</td>\n",
       "    </tr>\n",
       "    <tr>\n",
       "      <th>1</th>\n",
       "      <td>2023-06-27</td>\n",
       "      <td>None</td>\n",
       "      <td>69.324074</td>\n",
       "      <td>69.375999</td>\n",
       "      <td>-0.569954</td>\n",
       "      <td>0.518025</td>\n",
       "    </tr>\n",
       "    <tr>\n",
       "      <th>2</th>\n",
       "      <td>2023-06-28</td>\n",
       "      <td>None</td>\n",
       "      <td>68.675781</td>\n",
       "      <td>69.373001</td>\n",
       "      <td>-0.581482</td>\n",
       "      <td>-0.115740</td>\n",
       "    </tr>\n",
       "    <tr>\n",
       "      <th>3</th>\n",
       "      <td>2023-06-29</td>\n",
       "      <td>None</td>\n",
       "      <td>68.822525</td>\n",
       "      <td>69.370010</td>\n",
       "      <td>-0.594841</td>\n",
       "      <td>0.047359</td>\n",
       "    </tr>\n",
       "    <tr>\n",
       "      <th>4</th>\n",
       "      <td>2023-06-30</td>\n",
       "      <td>None</td>\n",
       "      <td>68.292099</td>\n",
       "      <td>69.367020</td>\n",
       "      <td>-0.609883</td>\n",
       "      <td>-0.465035</td>\n",
       "    </tr>\n",
       "  </tbody>\n",
       "</table>\n",
       "</div>"
      ],
      "text/plain": [
       "          ds     y      yhat1      trend  season_yearly  season_weekly\n",
       "0 2023-06-26  None  69.245621  69.378998      -0.560383       0.427005\n",
       "1 2023-06-27  None  69.324074  69.375999      -0.569954       0.518025\n",
       "2 2023-06-28  None  68.675781  69.373001      -0.581482      -0.115740\n",
       "3 2023-06-29  None  68.822525  69.370010      -0.594841       0.047359\n",
       "4 2023-06-30  None  68.292099  69.367020      -0.609883      -0.465035"
      ]
     },
     "execution_count": 38,
     "metadata": {},
     "output_type": "execute_result"
    }
   ],
   "source": [
    "futureHumidity = mHumidity.make_future_dataframe(datasetHumidity, periods=900)\n",
    "forecastHumidity = mHumidity.predict(futureHumidity)\n",
    "forecastHumidity.head()"
   ]
  },
  {
   "cell_type": "code",
   "execution_count": 39,
   "id": "feb8776b",
   "metadata": {},
   "outputs": [
    {
     "data": {
      "text/html": [
       "<div>\n",
       "<style scoped>\n",
       "    .dataframe tbody tr th:only-of-type {\n",
       "        vertical-align: middle;\n",
       "    }\n",
       "\n",
       "    .dataframe tbody tr th {\n",
       "        vertical-align: top;\n",
       "    }\n",
       "\n",
       "    .dataframe thead th {\n",
       "        text-align: right;\n",
       "    }\n",
       "</style>\n",
       "<table border=\"1\" class=\"dataframe\">\n",
       "  <thead>\n",
       "    <tr style=\"text-align: right;\">\n",
       "      <th></th>\n",
       "      <th>ds</th>\n",
       "      <th>y</th>\n",
       "    </tr>\n",
       "  </thead>\n",
       "  <tbody>\n",
       "    <tr>\n",
       "      <th>0</th>\n",
       "      <td>2023-06-26</td>\n",
       "      <td>None</td>\n",
       "    </tr>\n",
       "    <tr>\n",
       "      <th>1</th>\n",
       "      <td>2023-06-27</td>\n",
       "      <td>None</td>\n",
       "    </tr>\n",
       "    <tr>\n",
       "      <th>2</th>\n",
       "      <td>2023-06-28</td>\n",
       "      <td>None</td>\n",
       "    </tr>\n",
       "    <tr>\n",
       "      <th>3</th>\n",
       "      <td>2023-06-29</td>\n",
       "      <td>None</td>\n",
       "    </tr>\n",
       "    <tr>\n",
       "      <th>4</th>\n",
       "      <td>2023-06-30</td>\n",
       "      <td>None</td>\n",
       "    </tr>\n",
       "    <tr>\n",
       "      <th>...</th>\n",
       "      <td>...</td>\n",
       "      <td>...</td>\n",
       "    </tr>\n",
       "    <tr>\n",
       "      <th>895</th>\n",
       "      <td>2025-12-07</td>\n",
       "      <td>None</td>\n",
       "    </tr>\n",
       "    <tr>\n",
       "      <th>896</th>\n",
       "      <td>2025-12-08</td>\n",
       "      <td>None</td>\n",
       "    </tr>\n",
       "    <tr>\n",
       "      <th>897</th>\n",
       "      <td>2025-12-09</td>\n",
       "      <td>None</td>\n",
       "    </tr>\n",
       "    <tr>\n",
       "      <th>898</th>\n",
       "      <td>2025-12-10</td>\n",
       "      <td>None</td>\n",
       "    </tr>\n",
       "    <tr>\n",
       "      <th>899</th>\n",
       "      <td>2025-12-11</td>\n",
       "      <td>None</td>\n",
       "    </tr>\n",
       "  </tbody>\n",
       "</table>\n",
       "<p>900 rows × 2 columns</p>\n",
       "</div>"
      ],
      "text/plain": [
       "            ds     y\n",
       "0   2023-06-26  None\n",
       "1   2023-06-27  None\n",
       "2   2023-06-28  None\n",
       "3   2023-06-29  None\n",
       "4   2023-06-30  None\n",
       "..         ...   ...\n",
       "895 2025-12-07  None\n",
       "896 2025-12-08  None\n",
       "897 2025-12-09  None\n",
       "898 2025-12-10  None\n",
       "899 2025-12-11  None\n",
       "\n",
       "[900 rows x 2 columns]"
      ]
     },
     "execution_count": 39,
     "metadata": {},
     "output_type": "execute_result"
    }
   ],
   "source": [
    "futureHumidity"
   ]
  },
  {
   "cell_type": "code",
   "execution_count": 1,
   "id": "15504692",
   "metadata": {},
   "outputs": [
    {
     "ename": "NameError",
     "evalue": "name 'mHumidity' is not defined",
     "output_type": "error",
     "traceback": [
      "\u001b[1;31m---------------------------------------------------------------------------\u001b[0m",
      "\u001b[1;31mNameError\u001b[0m                                 Traceback (most recent call last)",
      "Cell \u001b[1;32mIn[1], line 1\u001b[0m\n\u001b[1;32m----> 1\u001b[0m plot1 \u001b[38;5;241m=\u001b[39m \u001b[43mmHumidity\u001b[49m\u001b[38;5;241m.\u001b[39mplot(forecastHumidity)\n",
      "\u001b[1;31mNameError\u001b[0m: name 'mHumidity' is not defined"
     ]
    }
   ],
   "source": [
    "plot1 = mHumidity.plot(forecastHumidity)"
   ]
  },
  {
   "cell_type": "code",
   "execution_count": null,
   "id": "a5436be4",
   "metadata": {},
   "outputs": [],
   "source": []
  }
 ],
 "metadata": {
  "kernelspec": {
   "display_name": "Python 3 (ipykernel)",
   "language": "python",
   "name": "python3"
  },
  "language_info": {
   "codemirror_mode": {
    "name": "ipython",
    "version": 3
   },
   "file_extension": ".py",
   "mimetype": "text/x-python",
   "name": "python",
   "nbconvert_exporter": "python",
   "pygments_lexer": "ipython3",
   "version": "3.9.15"
  }
 },
 "nbformat": 4,
 "nbformat_minor": 5
}
